{
 "cells": [
  {
   "cell_type": "raw",
   "metadata": {
    "slideshow": {
     "slide_type": "notes"
    }
   },
   "source": [
    "# Q1.Discuss the scenarios where multithreading is preferable to multiprocessing and scenarios where multiprocessing is a better choice\n",
    "'''\n",
    "Multithreading: Multithreading is a system in which multiple threads are created of a process for increasing the computing speed of the system.\n",
    "While in Multithreading, a common address space is shared by all the threads. \n",
    "'''\n",
    "'''\n",
    "Multiprocessing: is a system that has more than one or two processors. In Multiprocessing , CPUs are added for increasing computing speed of the system. Because of Multiprocessing.\n",
    "In Multiprocessing, every process owned a separate address space"
   ]
  },
  {
   "cell_type": "raw",
   "metadata": {
    "slideshow": {
     "slide_type": "notes"
    }
   },
   "source": [
    "# Q2. Describe what a process pool is and how it helps in managing multiple processes efficiently.\n",
    "'''\n",
    "A process pool is a programming pattern for automatically managing a pool of worker processes.\n",
    "\n",
    "The pool is responsible for a fixed number of processes.\n",
    "\n",
    "It controls when they are created, such as when they are needed.\n",
    "It also controls what they should do when they are not being used, such as making them wait without consuming computational resources."
   ]
  },
  {
   "cell_type": "raw",
   "metadata": {
    "slideshow": {
     "slide_type": "notes"
    },
    "vscode": {
     "languageId": "raw"
    }
   },
   "source": [
    "# Q3. Explain what multiprocessing is and why it is used in Python programs.\n",
    "'''\n",
    "Multiprocessing refers to the ability of a system to support more than one processor at the same time. Applications in a multiprocessing system are broken to smaller routines that run independently. The operating system allocates these threads to the processors improving performance of the system.\n",
    "Why: \n",
    "    Consider a computer system with a single processor. If it is assigned several processes at the same time, it will have to interrupt each task and switch briefly to another, to keep all of the processes going. This situation is just like a chef working in a kitchen alone. He has to do several tasks like baking, stirring, kneading dough, etc. So the gist is that: The more tasks you must do at once, the more difficult it gets to keep track of them all, and keeping the timing right becomes more of a challenge. This is where the concept of multiprocessing arises.\n",
    "\n",
    "A multiprocessing system can have:\n",
    "    multiprocessor, i.e. a computer with more than one central processor.\n",
    "    multi-core processor, i.e. a single computing component with two or more independent actual processing units (called “cores”).\n",
    "'''"
   ]
  },
  {
   "cell_type": "raw",
   "metadata": {
    "slideshow": {
     "slide_type": "notes"
    },
    "vscode": {
     "languageId": "raw"
    }
   },
   "source": [
    "# Q5. Describe the methods and tools available in Python for safely sharing data between threads and processes.\n",
    "'''\n",
    "a) concurrent.futures.ThreadPoolExecutor and ProcessPoolExecutor\n",
    "These executors manage a pool of threads or processes and provide a high-level interface for parallel execution.\n",
    "\n",
    "a) threading.Lock (Mutex)\n",
    "A Lock ensures that only one thread can access a shared resource at a time, preventing multiple threads from modifying the resource simultaneously.\n",
    "\n",
    "b) threading.RLock (Reentrant Lock)\n",
    "An RLock allows the same thread to acquire the lock multiple times (i.e., reentrant locking).\n",
    "It's useful when a thread may need to lock recursively\n",
    "\n",
    "C) threading.Event\n",
    "An Event is a simple mechanism that allows threads to communicate. A thread can wait for an event to be set, and another thread can set the event to signal that a condition has been met.\n",
    "\n",
    "a) multiprocessing.Queue\n",
    "A Queue in the multiprocessing module allows multiple processes to exchange data. It's process-safe, and the API is similar to queue.Queue, making it simple to share data across processes.\n",
    "\n",
    "b) multiprocessing.Pipe\n",
    "A Pipe provides two-way communication between processes via a pair of connected file descriptors or sockets.\n",
    "Each end of the pipe can be used to send and receive data\n",
    "\n",
    "c) multiprocessing.Manager\n",
    "A Manager provides a way to create shared objects such as lists, dictionaries, and other data structures that can be shared across multiple processes.\n",
    "'''"
   ]
  },
  {
   "cell_type": "raw",
   "metadata": {
    "vscode": {
     "languageId": "raw"
    }
   },
   "source": [
    "Q6. Discuss why its crucial to handle exceptions in concurrent programs and the techniques available for doing so.\n",
    "\n",
    "Handling exceptions in concurrent programs is crucial for several reasons:\n",
    "1.Improving Debugging and Maintenance\n",
    "2.Ensuring Data Integrity\n",
    "3.Maintaining Program Stability\n",
    "\n",
    "Techniques for Handling Exceptions in Concurrent Programs:\n",
    "concurrent.futures Module: This module provides a high-level interface for asynchronously executing callables using threads or processes. It allows you to handle exceptions by checking the Future objects returned by the executor."
   ]
  },
  {
   "cell_type": "code",
   "execution_count": 1,
   "metadata": {},
   "outputs": [
    {
     "name": "stdout",
     "output_type": "stream",
     "text": [
      "Factorial of 1 is 1\n",
      "Factorial of 2 is 2\n",
      "Factorial of 3 is 6\n",
      "Factorial of 4 is 24\n",
      "Factorial of 5 is 120\n",
      "Factorial of 6 is 720\n",
      "Factorial of 7 is 5040\n",
      "Factorial of 8 is 40320\n",
      "Factorial of 9 is 362880\n",
      "Factorial of 10 is 3628800\n"
     ]
    }
   ],
   "source": [
    "# Q7. Create a program that uses a thread pool to calculate the factorial of numbers from 1 to 10 concurrently. Use concurrent.futures.ThreadPoolExecutor to manage the threads.\n",
    "\n",
    "from concurrent.futures import ThreadPoolExecutor\n",
    "import math\n",
    "\n",
    "# Function to calculate factorial\n",
    "def factorial(n):\n",
    "    return math.factorial(n)\n",
    "\n",
    "# List of numbers from 1 to 10\n",
    "numbers = list(range(1, 11))\n",
    "\n",
    "# Using ThreadPoolExecutor to manage threads\n",
    "with ThreadPoolExecutor(max_workers=5) as executor:\n",
    "    # Map the factorial function to the list of numbers\n",
    "    results = list(executor.map(factorial, numbers))\n",
    "\n",
    "# Print the results\n",
    "for number, result in zip(numbers, results):\n",
    "    print(f\"Factorial of {number} is {result}\")\n",
    "\n"
   ]
  },
  {
   "cell_type": "code",
   "execution_count": null,
   "metadata": {},
   "outputs": [],
   "source": [
    "# Q8. Create a Python program that uses multiprocessing.Pool to compute the square of numbers from 1 to 10 in parallel. Measure the time taken to perform this computation using a pool of different sizes (e.g., 2, 4, 8 processes)\n",
    "\n",
    "import multiprocessing\n",
    "import time\n",
    "start_tiime = time.perf_counter()\n",
    "\n",
    "def square(n):\n",
    "    \n",
    "    return n * n\n",
    "\n",
    "n = [1,2,3,4,5,6,7,8,9,10]\n",
    "    \n",
    "\n",
    "\n",
    "with multiprocessing.Pool() as pool:\n",
    "    pool.map(square,n )\n",
    "\n",
    "end_time = time.perf_counter()\n",
    "# print(f\" Time taken: {end_time - start_time} seconds, \")\n",
    "\n",
    "\n"
   ]
  }
 ],
 "metadata": {
  "kernelspec": {
   "display_name": "base",
   "language": "python",
   "name": "python3"
  },
  "language_info": {
   "codemirror_mode": {
    "name": "ipython",
    "version": 3
   },
   "file_extension": ".py",
   "mimetype": "text/x-python",
   "name": "python",
   "nbconvert_exporter": "python",
   "pygments_lexer": "ipython3",
   "version": "3.11.5"
  }
 },
 "nbformat": 4,
 "nbformat_minor": 2
}
