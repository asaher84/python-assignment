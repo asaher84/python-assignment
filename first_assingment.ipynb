{
 "cells": [
  {
   "cell_type": "code",
   "execution_count": 1,
   "id": "431b1b82-d457-47cc-aa59-7fea13211106",
   "metadata": {},
   "outputs": [
    {
     "data": {
      "text/plain": [
       "\"1. Easy to learn - It is remarkably simple to learn. With a smooth learning curve and straightforward syntax, coding in Python comes naturally.\\n2. Object oriented programing language - Python supports Encapsulation, Inheritance , Polymorphism and more.\\n3. Free and open source- Python, a programming language, is available under an open-source license approved by OSI. We can use it for free.\\n4. Extensive Libraries and Frameworks - Python boasts a vast standard library, providing modules and functions for a wide array of tasks, from web development with frameworks like Django and Flask to scientific computing with libraries like NumPy and SciPy.\\n5. Simplicity and readability - Python's syntax is designed to be intuitive and mirrors the English language, which makes it an accessible language for newcomers\\n6. Platform independent - Python has an exceptional feature called platform independence, which allows programs written in Python to run on multiple platforms such as Windows, Mac, Linux, and others.\\n\""
      ]
     },
     "execution_count": 1,
     "metadata": {},
     "output_type": "execute_result"
    }
   ],
   "source": [
    "#Q1. Explain the key features of Python that make it a popular choice for programming\n",
    "'''1. Easy to learn - It is remarkably simple to learn. With a smooth learning curve and straightforward syntax, coding in Python comes naturally.\n",
    "2. Object oriented programing language - Python supports Encapsulation, Inheritance , Polymorphism and more.\n",
    "3. Free and open source- Python, a programming language, is available under an open-source license approved by OSI. We can use it for free.\n",
    "4. Extensive Libraries and Frameworks - Python boasts a vast standard library, providing modules and functions for a wide array of tasks, from web development with frameworks like Django and Flask to scientific computing with libraries like NumPy and SciPy.\n",
    "5. Simplicity and readability - Python's syntax is designed to be intuitive and mirrors the English language, which makes it an accessible language for newcomers\n",
    "6. Platform independent - Python has an exceptional feature called platform independence, which allows programs written in Python to run on multiple platforms such as Windows, Mac, Linux, and others.\n",
    "'''\n"
   ]
  },
  {
   "cell_type": "code",
   "execution_count": 3,
   "id": "4e8cf27a-6c6c-49e6-9f7a-8ee4a9a912ba",
   "metadata": {},
   "outputs": [
    {
     "name": "stdout",
     "output_type": "stream",
     "text": [
      "n is greater than 10\n",
      "0\n",
      "1\n",
      "2\n",
      "3\n",
      "4\n",
      "5\n",
      "6\n",
      "7\n",
      "8\n",
      "9\n"
     ]
    }
   ],
   "source": [
    "#Q2.  Describe the role of predefined keywords in Python and provide examples of how they are used in a program\n",
    "''' In Python the predefined keywords are reserved words with specific meaning we can not use it as a variable name or function name.'''\n",
    "#examples \n",
    "n = 1\n",
    "if (n>10):\n",
    "    print(\"n is small number than 10\")\n",
    "else:\n",
    "    print(\"n is greater than 10\")\n",
    "\n",
    "import numpy as np\n",
    "import pandas as pd\n",
    "\n",
    "for i in range(10):\n",
    "    print(i)"
   ]
  },
  {
   "cell_type": "code",
   "execution_count": 10,
   "id": "5291b903-e785-4ff9-a835-349a8b50c0df",
   "metadata": {},
   "outputs": [
    {
     "name": "stdout",
     "output_type": "stream",
     "text": [
      "[0, 2, 3, 4, 6]\n",
      "{'Right': 'Left', 'Possible': 'Impossible', 'Come': 'Go'}\n",
      "ADITYA\n",
      "4\n"
     ]
    },
    {
     "ename": "AttributeError",
     "evalue": "'tuple' object has no attribute 'append'",
     "output_type": "error",
     "traceback": [
      "\u001b[0;31m---------------------------------------------------------------------------\u001b[0m",
      "\u001b[0;31mAttributeError\u001b[0m                            Traceback (most recent call last)",
      "Cell \u001b[0;32mIn[10], line 30\u001b[0m\n\u001b[1;32m     27\u001b[0m \u001b[38;5;28mprint\u001b[39m(b)\n\u001b[1;32m     29\u001b[0m my_tuple \u001b[38;5;241m=\u001b[39m (\u001b[38;5;241m1\u001b[39m,\u001b[38;5;241m2\u001b[39m,\u001b[38;5;241m3\u001b[39m)\n\u001b[0;32m---> 30\u001b[0m \u001b[43mmy_tuple\u001b[49m\u001b[38;5;241;43m.\u001b[39;49m\u001b[43mappend\u001b[49m(\u001b[38;5;241m4\u001b[39m)\n\u001b[1;32m     31\u001b[0m \u001b[38;5;28mprint\u001b[39m(my_tuple)\n",
      "\u001b[0;31mAttributeError\u001b[0m: 'tuple' object has no attribute 'append'"
     ]
    }
   ],
   "source": [
    "#Q3.Compare and contrast mutable and immutable objects in Python with examples\n",
    "'''\n",
    "Mutable - mutable objects can modified after their creation. We can perform on it like add , remove , replace operations.\n",
    "Imutable - immutable objects never modified or changed after their creation.\n",
    "'''\n",
    "#mutable objects 1.List 2.Sets 3.Dictionaries\n",
    "my_list = [1,2,3,4]\n",
    "my_list.append(6)\n",
    "my_list[0] = 0\n",
    "print(my_list)\n",
    "\n",
    "my_dict = {\n",
    "    'Right':'Wrong',\n",
    "    'Possible':'Impossible'\n",
    "}\n",
    "my_dict['Right']= 'Left'\n",
    "my_dict['Come'] = 'Go'\n",
    "print(my_dict)\n",
    "\n",
    "#immutable 1.String 2.Integer 3.Tuple\n",
    "my_string = 'Aditya'\n",
    "new_string = my_string.upper()#create new string with all uppercase latter\n",
    "print(new_string)\n",
    "      \n",
    "a = 3\n",
    "b = a + 1 #creates new integer object when we perform any arithmetic operation\n",
    "print(b)\n",
    "      \n",
    "my_tuple = (1,2,3)\n",
    "my_tuple.append(4)\n",
    "print(my_tuple)\n",
    "\n",
    "\n",
    "\n"
   ]
  },
  {
   "cell_type": "code",
   "execution_count": 13,
   "id": "783e8931-488b-4660-af2d-99a1995cbf89",
   "metadata": {},
   "outputs": [
    {
     "name": "stdout",
     "output_type": "stream",
     "text": [
      "Arithmtic :  15 8 5.0\n",
      "Logical:  True False\n",
      "Identity Operators False\n",
      "True\n",
      "comparison operators: True False\n",
      "Assingment :  12\n",
      "Bitwise:  1\n"
     ]
    }
   ],
   "source": [
    "#Q4.  Discuss the different types of operators in Python and provide examples of how they are used\n",
    "'''\n",
    "In python there is 7 types of operators such as 1.Arithmetic Operators, 2.Logical Operators , 3.Identity Operators, 4.Comparison Operators,\n",
    "5.Assingment Operators, 6.Bitwise Operators, 7.Membership Operators\n",
    "'''\n",
    "#Arithmetic Operators \n",
    "\n",
    "a = 10+5\n",
    "b = 10-2\n",
    "c = 10/2\n",
    "print('Arithmtic : ',a,b,c)\n",
    "\n",
    "# #Logical Operators\n",
    "j = 10>5\n",
    "k = 10<4\n",
    "print('Logical: ',j,k)\n",
    "\n",
    "#Identity Operators\n",
    "x = 5\n",
    "y = 5\n",
    "print('Identity Operators' , x is not y)\n",
    "print(x is y)\n",
    "\n",
    "#Comparison Operators \n",
    "p = x == y\n",
    "q = x != y\n",
    "print('comparison operators:', p, q)\n",
    "\n",
    "# #Assingment Operators \n",
    "w = 10\n",
    "w += 2\n",
    "print('Assingment : ',w)\n",
    "\n",
    "# #Bitwise Operators \n",
    "s = 5\n",
    "t = 3\n",
    "result = s & t\n",
    "print('Bitwise: ',result)\n",
    "\n"
   ]
  },
  {
   "cell_type": "code",
   "execution_count": 15,
   "id": "48d4a153-6b02-4c41-adc6-9429a63bfa0b",
   "metadata": {},
   "outputs": [
    {
     "name": "stdout",
     "output_type": "stream",
     "text": [
      "15.5\n",
      "5\n",
      "<class 'float'> 3.0\n"
     ]
    }
   ],
   "source": [
    "#Q5. Explain the concept of type casting in Python with examples\n",
    "'''\n",
    "Type casting are possible to perform in python. type casting means convert interger into float  or float convert into intergers. there are two types of type casting we can perform in \n",
    "python 1.Implicit Conversion and 2.Explicit Conversion\n",
    "'''\n",
    "#Implicit Conversion\n",
    "a = 10\n",
    "b = 5.5\n",
    "print(a+b)\n",
    "\n",
    "#Explicit Conversion\n",
    "p = '2'\n",
    "q = 3\n",
    "result = int(p) + q\n",
    "print(result)\n",
    "r = float(q)\n",
    "print(type(r),r)"
   ]
  },
  {
   "cell_type": "code",
   "execution_count": 20,
   "id": "cb8eba96-61cc-40c3-b889-b86a6c3a5792",
   "metadata": {},
   "outputs": [
    {
     "name": "stdout",
     "output_type": "stream",
     "text": [
      "10 is greater than 5\n"
     ]
    }
   ],
   "source": [
    "#Q6. How do conditional statements work in Python? Illustrate with examples\n",
    "'''Condition statements are used to performed some conditions in program. for condition statements we can use if , elif and else keywords'''\n",
    "x = 10\n",
    "y = 5\n",
    "if (x>y):\n",
    "    print(f'{x} is greater than {y}')\n",
    "elif(x==y):\n",
    "    print(f'{x} is equal to {y}')\n",
    "else:\n",
    "    print(f'{x} is small than {y}')"
   ]
  },
  {
   "cell_type": "code",
   "execution_count": 21,
   "id": "9524bb85-98cc-443e-b594-738fb10d4741",
   "metadata": {},
   "outputs": [
    {
     "name": "stdout",
     "output_type": "stream",
     "text": [
      "mango\n",
      "banana\n",
      "apple\n",
      "1\n",
      "2\n",
      "3\n",
      "4\n",
      "5\n"
     ]
    }
   ],
   "source": [
    "#Q7.Describe the different types of loops in Python and their use cases with examples.\n",
    "'''\n",
    "In Python, loops are used to execute a block of code repeatedly until a certain condition is met.\n",
    "The two primary types of loops in Python are the 'for loop' and the 'while loop'\n",
    "'''\n",
    "#for loop\n",
    "fruits = ['mango', 'banana', 'apple']\n",
    "for fruit in fruits:\n",
    "    print(fruit)\n",
    "    \n",
    "#while loop\n",
    "count = 1\n",
    "while count <= 5:\n",
    "    print(count)\n",
    "    count += 1\n"
   ]
  },
  {
   "cell_type": "code",
   "execution_count": null,
   "id": "d30a20c8-5944-4ece-a012-cd24d348721d",
   "metadata": {},
   "outputs": [],
   "source": []
  }
 ],
 "metadata": {
  "kernelspec": {
   "display_name": "Python 3 (ipykernel)",
   "language": "python",
   "name": "python3"
  },
  "language_info": {
   "codemirror_mode": {
    "name": "ipython",
    "version": 3
   },
   "file_extension": ".py",
   "mimetype": "text/x-python",
   "name": "python",
   "nbconvert_exporter": "python",
   "pygments_lexer": "ipython3",
   "version": "3.10.8"
  }
 },
 "nbformat": 4,
 "nbformat_minor": 5
}
