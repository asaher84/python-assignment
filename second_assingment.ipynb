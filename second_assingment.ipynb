{
 "cells": [
  {
   "cell_type": "code",
   "execution_count": 1,
   "id": "efdff557-da60-4330-9285-7a06a0d617d1",
   "metadata": {},
   "outputs": [
    {
     "name": "stdout",
     "output_type": "stream",
     "text": [
      "aytidA\n"
     ]
    }
   ],
   "source": [
    "#Q.1 Reverse string\n",
    "string = \"Aditya\"\n",
    "print(string[::-1])"
   ]
  },
  {
   "cell_type": "code",
   "execution_count": 2,
   "id": "1dd1a62d-34ee-4f75-9ec0-022f4d292748",
   "metadata": {},
   "outputs": [
    {
     "name": "stdout",
     "output_type": "stream",
     "text": [
      "6\n"
     ]
    }
   ],
   "source": [
    "#Q2. Write a code to count the number of vowels in a string\n",
    "my_string = \"Yogiadityanath\"\n",
    "m = [ ]\n",
    "for i in my_string:\n",
    "    if i =='a':\n",
    "        m += i\n",
    "    elif i == 'e':\n",
    "        m += i\n",
    "    elif i == 'i':\n",
    "        m += i\n",
    "    elif i == 'o':\n",
    "        m += i\n",
    "    elif i == 'u':\n",
    "        m += i\n",
    "print(len(m))"
   ]
  },
  {
   "cell_type": "code",
   "execution_count": 3,
   "id": "033e43de-2e43-4df2-9105-03b4e6213032",
   "metadata": {},
   "outputs": [
    {
     "name": "stdout",
     "output_type": "stream",
     "text": [
      "yes\n"
     ]
    }
   ],
   "source": [
    "#Q3  Write a code to check if a given string is a palindrome or not\n",
    "def is_Palindrome(s):\n",
    "    return s == s[::-1]\n",
    "    \n",
    "s = \"malayalam\"\n",
    "if is_Palindrome(s):\n",
    "    print('yes')\n",
    "else:\n",
    "    print('no')\n"
   ]
  },
  {
   "cell_type": "code",
   "execution_count": 4,
   "id": "2788e0ad-10f7-4478-8821-89e5cbdb5b8b",
   "metadata": {},
   "outputs": [
    {
     "name": "stdout",
     "output_type": "stream",
     "text": [
      "Given string are anagrams\n"
     ]
    }
   ],
   "source": [
    "#Q4. Write a code to check if two given strings are anagrams of each other\n",
    "def check_anagrams(a,b):\n",
    "    if sorted(a) == sorted(b):\n",
    "        print(\"Given string are anagrams\")\n",
    "    else:\n",
    "        print(\"String are not anagrams\")\n",
    "\n",
    "a = \"listen\"\n",
    "b = \"silent\"\n",
    "\n",
    "check_anagrams(a,b)"
   ]
  },
  {
   "cell_type": "code",
   "execution_count": 2,
   "id": "26e5a0a8-6aa3-4333-a862-ee4d25fef554",
   "metadata": {},
   "outputs": [
    {
     "data": {
      "text/plain": [
       "['t', 'h']"
      ]
     },
     "execution_count": 2,
     "metadata": {},
     "output_type": "execute_result"
    }
   ],
   "source": [
    "#Q5. Write a code to find all occurrences of a given substring within another string\n",
    "def find_occurrences(p , q):\n",
    "    m = []\n",
    "    for i in p:\n",
    "        for j in q:\n",
    "            if j == i:\n",
    "                m += j\n",
    "    return m\n",
    "p = \"jagnnath\"\n",
    "q = \"thr\"\n",
    "find_occurrences(p,q)"
   ]
  },
  {
   "cell_type": "code",
   "execution_count": 6,
   "id": "271b7a11-9c81-4762-88e6-f4b5a8c97f65",
   "metadata": {},
   "outputs": [
    {
     "name": "stdout",
     "output_type": "stream",
     "text": [
      "a2b1c5a3\n"
     ]
    }
   ],
   "source": [
    "#Q7. Write a code to perform basic string compression using the counts of repeated characters\n",
    "\n",
    "def compressed_string(s):\n",
    "    compress = []\n",
    "    m = 1\n",
    "    for i in range (1 , len(s)):\n",
    "        if s[i] == s[i - 1]:\n",
    "            m += 1\n",
    "        else :\n",
    "            compress.append(s[i - 1] + str(m))\n",
    "            m = 1\n",
    "\n",
    "    compress.append(s[-1] + str(m))\n",
    "\n",
    "    result = ''.join(compress)\n",
    "    \n",
    "    return result if len(result) < len(s) else s\n",
    "\n",
    "input_string = \"aabcccccaaa\"\n",
    "compressed = compressed_string(input_string)\n",
    "print(compressed)"
   ]
  },
  {
   "cell_type": "code",
   "execution_count": 7,
   "id": "babcf6e7-e00c-4710-b622-ab25f068f17c",
   "metadata": {},
   "outputs": [
    {
     "name": "stdout",
     "output_type": "stream",
     "text": [
      "String Adityaa has not unique,the character ['a'] is repeted \n"
     ]
    }
   ],
   "source": [
    "#Q7. Write a code to determine if a string has all unique characters\n",
    "def uniqueness(s):\n",
    "    m = []\n",
    "    c = []\n",
    "    for i in s :\n",
    "        m+=i\n",
    "    for j in m:\n",
    "        if j == i:\n",
    "            c += j\n",
    "            break            \n",
    "    result = print(f\"String {s} has not unique,the character {c} is repeted \")       \n",
    "    return result\n",
    "uniqueness(\"Adityaa\")"
   ]
  },
  {
   "cell_type": "code",
   "execution_count": 10,
   "id": "14112d0e-0511-4876-be5a-c1783017df5a",
   "metadata": {},
   "outputs": [
    {
     "name": "stdin",
     "output_type": "stream",
     "text": [
      "Give the input:  yes BROTHER\n"
     ]
    },
    {
     "name": "stdout",
     "output_type": "stream",
     "text": [
      "uppercase: YES BROTHER and lowercase: yes brother\n"
     ]
    }
   ],
   "source": [
    "# Q8. Write a code to convert a given string to uppercase or lowercase\n",
    "input_string = input(str(\"Give the input: \"))\n",
    "output1 = input_string.upper()\n",
    "output2 = input_string.lower()\n",
    "print(f\"uppercase: {output1} and lowercase: {output2}\")"
   ]
  },
  {
   "cell_type": "code",
   "execution_count": 11,
   "id": "e609b171-f8ba-41dc-aefa-9f8c1af88796",
   "metadata": {},
   "outputs": [
    {
     "name": "stdout",
     "output_type": "stream",
     "text": [
      "2\n"
     ]
    }
   ],
   "source": [
    "# Q9. Write a code to count the number of words in a string\n",
    "string = \"jay mahakal\"\n",
    "words = string.split()\n",
    "print(len(words))\n"
   ]
  },
  {
   "cell_type": "code",
   "execution_count": 25,
   "id": "ec65e234-a938-4129-a808-4a7a6ee05e95",
   "metadata": {},
   "outputs": [
    {
     "name": "stdout",
     "output_type": "stream",
     "text": [
      "hello yash\n",
      "hello yash\n",
      "hello yash\n",
      "hello yash\n"
     ]
    }
   ],
   "source": [
    "# Q10. Write a code to concatenate two strings without using the + operator\n",
    "string1 = \"hello\"\n",
    "string2 = \"yash\"\n",
    "output = \" \".join([string1, string2])\n",
    "print(output)\n",
    "\n",
    "print(string1, string2)\n",
    "\n",
    "print(f\"{string1} {string2}\")\n",
    "output2 = \"{} {}\".format(string1 , string2)\n",
    "print(output2)"
   ]
  },
  {
   "cell_type": "code",
   "execution_count": 34,
   "id": "5ccf788f-9186-44a4-a0cd-cab4f4c3d0d6",
   "metadata": {},
   "outputs": [
    {
     "name": "stdout",
     "output_type": "stream",
     "text": [
      "[5, 6, 5, 2, 5]\n"
     ]
    }
   ],
   "source": [
    "#Q11 Write a code to remove all occurrences of a specific element from a list\n",
    "def remove_occurrences(list1,item):\n",
    "    return [ i for i in list1 if i != item]\n",
    "list1 = [4,5,6,4,5,2,5,4]\n",
    "item = 4\n",
    "result = remove_occurrences(list1 , item)\n",
    "print(result)"
   ]
  },
  {
   "cell_type": "code",
   "execution_count": 28,
   "id": "fc4a98b5-8c54-4c95-9df0-d1c3c18bc5cd",
   "metadata": {},
   "outputs": [
    {
     "name": "stdout",
     "output_type": "stream",
     "text": [
      "second largest number is:  80\n"
     ]
    }
   ],
   "source": [
    "#Q12. Implement a code to find the second largest number in a given list of integers\n",
    "def second_largest(list1):\n",
    "    list1.sort()\n",
    "    print(\"second largest number is: \",list1[-2])\n",
    "list1 = [40,50,60,10,20,30,90,70,80]\n",
    "second_largest(list1)"
   ]
  },
  {
   "cell_type": "code",
   "execution_count": 37,
   "id": "c3f2d837-8585-428c-aff1-71fce399270c",
   "metadata": {},
   "outputs": [
    {
     "name": "stdout",
     "output_type": "stream",
     "text": [
      "{'apple': 2, 'red': 3, 'pear': 1}\n"
     ]
    }
   ],
   "source": [
    "#Q13. Create a code to count the occurrences of each element in a list and return a dictionary with elements as keys and their counts as values\n",
    "list1 = ['apple','red','apple','red','red','pear']\n",
    "d = { x:list1.count(x) for x in list1}\n",
    "print(d)"
   ]
  },
  {
   "cell_type": "code",
   "execution_count": 50,
   "id": "8605a01e-9353-4519-a1ab-ab3381446728",
   "metadata": {},
   "outputs": [
    {
     "name": "stdout",
     "output_type": "stream",
     "text": [
      "['bosss', 'shubh', 'deva', 'aditya']\n"
     ]
    }
   ],
   "source": [
    "# Q14. Write a code to reverse a list in-place without using any built-in reverse functions\n",
    "list1 = [ \"aditya\", \"deva\",\"shubh\",\"bosss\"]\n",
    "list2 = list1[::-1]\n",
    "# for i in list1:\n",
    "#     list1.reverse()\n",
    "#     print(list1)\n",
    "#     break\n",
    "print(list2)\n"
   ]
  },
  {
   "cell_type": "code",
   "execution_count": 1,
   "id": "a38e487c-60dc-482f-ba21-27e3df87a54b",
   "metadata": {},
   "outputs": [
    {
     "name": "stdout",
     "output_type": "stream",
     "text": [
      "Original List: [1, 2, 3, 4, 2, 1, 5, 6, 4]\n",
      "Update List: [1, 2, 3, 4, 5, 6]\n"
     ]
    }
   ],
   "source": [
    "# Q15. Implement a code to find and remove duplicates from a list while preserving the original order of elements\n",
    "original_list = [1, 2, 3, 4, 2, 1, 5, 6, 4]\n",
    "print(\"Original List:\", original_list)\n",
    "unique_list = []\n",
    "for x in original_list:\n",
    "    if x not in unique_list:\n",
    "        unique_list.append(x)\n",
    "print(\"Update List:\", unique_list)"
   ]
  },
  {
   "cell_type": "code",
   "execution_count": 16,
   "id": "3ca7fb3c-e70c-4478-827a-62cfac0d3349",
   "metadata": {},
   "outputs": [
    {
     "name": "stdout",
     "output_type": "stream",
     "text": [
      "given string is not sorted\n"
     ]
    }
   ],
   "source": [
    "# Q16.Create a code to check if a given list is sorted (either in ascending or descending order) or not\n",
    "list1 = [10,40,50,60,20,30]\n",
    "list2 = [40,30,20,10]\n",
    "list2.sort(reverse=True)\n",
    "# def sorted_list(list1):\n",
    "if list2 == sorted(list2):\n",
    "    print(\"given list is sorted : \",list2)\n",
    "# elif list2 == list2.sort(reverse=True):\n",
    "#     print(\"given string is sorted by descending order\")\n",
    "else :\n",
    "    print(\"given string is not sorted\")\n",
    "# sorted_list(list1)"
   ]
  },
  {
   "cell_type": "code",
   "execution_count": 23,
   "id": "afd0e512-ec2e-4398-8588-2b0d553f7740",
   "metadata": {},
   "outputs": [
    {
     "ename": "IndexError",
     "evalue": "list index out of range",
     "output_type": "error",
     "traceback": [
      "\u001b[0;31m---------------------------------------------------------------------------\u001b[0m",
      "\u001b[0;31mIndexError\u001b[0m                                Traceback (most recent call last)",
      "Cell \u001b[0;32mIn[23], line 11\u001b[0m\n\u001b[1;32m      9\u001b[0m             \u001b[38;5;28;01mbreak\u001b[39;00m\n\u001b[1;32m     10\u001b[0m     \u001b[38;5;28;01mreturn\u001b[39;00m m\n\u001b[0;32m---> 11\u001b[0m \u001b[43msorted_list\u001b[49m\u001b[43m(\u001b[49m\u001b[43mlist1\u001b[49m\u001b[43m)\u001b[49m\n",
      "Cell \u001b[0;32mIn[23], line 7\u001b[0m, in \u001b[0;36msorted_list\u001b[0;34m(list1)\u001b[0m\n\u001b[1;32m      5\u001b[0m m \u001b[38;5;241m=\u001b[39m []\n\u001b[1;32m      6\u001b[0m \u001b[38;5;28;01mfor\u001b[39;00m i \u001b[38;5;129;01min\u001b[39;00m list1:\n\u001b[0;32m----> 7\u001b[0m     \u001b[38;5;28;01mif\u001b[39;00m i \u001b[38;5;241m<\u001b[39m\u001b[38;5;241m=\u001b[39m \u001b[43mlist1\u001b[49m\u001b[43m[\u001b[49m\u001b[43mi\u001b[49m\u001b[43m \u001b[49m\u001b[38;5;241;43m+\u001b[39;49m\u001b[43m \u001b[49m\u001b[38;5;241;43m1\u001b[39;49m\u001b[43m]\u001b[49m:\n\u001b[1;32m      8\u001b[0m         m\u001b[38;5;241m.\u001b[39mappend(i)\n\u001b[1;32m      9\u001b[0m         \u001b[38;5;28;01mbreak\u001b[39;00m\n",
      "\u001b[0;31mIndexError\u001b[0m: list index out of range"
     ]
    }
   ],
   "source": [
    "# list1 = [10,40,50,60,20,30]\n",
    "# # list1.sort(reverse=True)\n",
    "# # print(list1)\n",
    "# def sorted_list(list1):\n",
    "#     m = []\n",
    "#     for i in list1:\n",
    "#         if i <= list1[i + 1]:\n",
    "#             m.append(i)\n",
    "#             break\n",
    "#     return m\n",
    "# sorted_list(list1)\n",
    "            "
   ]
  },
  {
   "cell_type": "code",
   "execution_count": 27,
   "id": "1adff38a-6ace-4d67-a798-106d1167fe79",
   "metadata": {},
   "outputs": [
    {
     "name": "stdout",
     "output_type": "stream",
     "text": [
      "[10, 10, 13, 15, 16, 18, 20, 60, 70, 90]\n"
     ]
    }
   ],
   "source": [
    "# Q17. Write a code to merge two sorted lists into a single sorted list\n",
    "m = [10,20,70,90,60]\n",
    "m.sort()\n",
    "n = [15,16,10,18,13]\n",
    "n.sort()\n",
    "output = m + n\n",
    "output.sort()\n",
    "print(output)"
   ]
  },
  {
   "cell_type": "code",
   "execution_count": 36,
   "id": "3dc67c5e-6a92-456f-afbf-770bb6196024",
   "metadata": {},
   "outputs": [
    {
     "name": "stdout",
     "output_type": "stream",
     "text": [
      "[20]\n"
     ]
    }
   ],
   "source": [
    "# Q18. Implement a code to find the intersection of two given lists\\\n",
    "m = [10,20,30,40]\n",
    "n = [20,60,70,90]\n",
    "output = list(set(m) & set(n))\n",
    "print(output)"
   ]
  },
  {
   "cell_type": "code",
   "execution_count": 40,
   "id": "8f3c3e58-0cd4-4d6e-abbf-f36ebfb61120",
   "metadata": {},
   "outputs": [
    {
     "name": "stdout",
     "output_type": "stream",
     "text": [
      "[10, 13, 15, 20, 30, 40, 60]\n"
     ]
    }
   ],
   "source": [
    "# Q19. Create a code to find the union of two lists without duplicates\n",
    "m = [10,20,30,15,20]\n",
    "n = [13,20,15,40,60]\n",
    "output = list(set(m) | set(n))\n",
    "output.sort()\n",
    "print(output)"
   ]
  },
  {
   "cell_type": "code",
   "execution_count": 19,
   "id": "f13d4d19-94ec-4d41-ad9d-d1d710b4a77b",
   "metadata": {},
   "outputs": [
    {
     "name": "stdin",
     "output_type": "stream",
     "text": [
      " 1 2 3 4\n",
      " 5 6 7 4\n"
     ]
    },
    {
     "name": "stdout",
     "output_type": "stream",
     "text": [
      "('4', ' ')\n",
      "<class 'tuple'>\n"
     ]
    }
   ],
   "source": [
    "# Q21. Write a code that takes two tuples as input and returns a new tuple containing elements that are common to both input tuples\n",
    "m = tuple(input())\n",
    "m_set = set(m)\n",
    "n = tuple(input())\n",
    "n_set = set(n)\n",
    "o = m_set & n_set\n",
    "output = tuple(o)\n",
    "print(output)\n",
    "print(type(output))"
   ]
  },
  {
   "cell_type": "code",
   "execution_count": 24,
   "id": "d7f5fba8-e49a-42d5-8aa8-bc2b8fde821f",
   "metadata": {},
   "outputs": [
    {
     "name": "stdin",
     "output_type": "stream",
     "text": [
      " 1,2,3,4\n",
      " 5,6,7,4\n"
     ]
    },
    {
     "name": "stdout",
     "output_type": "stream",
     "text": [
      "{'4'}\n",
      "<class 'set'>\n"
     ]
    }
   ],
   "source": [
    "# Q22. Create a code that prompts the user to enter two sets of integers separated by commas.Then,print the intersection of these two sets\n",
    "user1 = set(input())\n",
    "user2 = set(input())\n",
    "output = user1 & user2\n",
    "output.remove(',')\n",
    "print(output)\n",
    "print(type(output))"
   ]
  },
  {
   "cell_type": "code",
   "execution_count": 8,
   "id": "26258206-1434-4e40-ba05-b09a5775d484",
   "metadata": {},
   "outputs": [
    {
     "name": "stdin",
     "output_type": "stream",
     "text": [
      " 1,2,3\n",
      " 4,5,6\n"
     ]
    },
    {
     "name": "stdout",
     "output_type": "stream",
     "text": [
      "('3', '2', '6', '4', '1', '5')\n",
      "<class 'tuple'>\n"
     ]
    }
   ],
   "source": [
    "'''Q23. Write a code to concatenate two tuples. The function should take two tuples as input and return a new \n",
    "tuple containing elements from both input tuples.'''\n",
    "m = tuple(input())\n",
    "m_set = set(m)\n",
    "n = tuple(input())\n",
    "n_set = set(n)\n",
    "output = m_set.union(n_set)\n",
    "output.remove(',')\n",
    "t = tuple(output)\n",
    "\n",
    "print(t)\n",
    "print(type(t))"
   ]
  },
  {
   "cell_type": "code",
   "execution_count": 14,
   "id": "b2c9a8b3-cd04-454c-b23c-5e6937fbb42e",
   "metadata": {},
   "outputs": [
    {
     "name": "stdin",
     "output_type": "stream",
     "text": [
      "  sdfgg\n",
      "  ertsd\n"
     ]
    },
    {
     "name": "stdout",
     "output_type": "stream",
     "text": [
      "f\n",
      "g\n"
     ]
    }
   ],
   "source": [
    "'''Q24.Develop a code that prompts the user to input two sets of strings. Then, print the elements that are \n",
    "present in the first set but not in the second set'''\n",
    "m = set(input(\" \"))\n",
    "n = set(input(\" \"))\n",
    "for i in m:\n",
    "    if i not in n:\n",
    "        print(i)\n",
    "\n"
   ]
  },
  {
   "cell_type": "code",
   "execution_count": 17,
   "id": "49560ec3-cf96-4b94-8289-3e7fadc1c2f2",
   "metadata": {},
   "outputs": [
    {
     "name": "stdin",
     "output_type": "stream",
     "text": [
      "  aditya\n",
      "  aher\n"
     ]
    },
    {
     "name": "stdout",
     "output_type": "stream",
     "text": [
      "{'d', 'h', 'a', 'y', 'e', 'r', 't', 'i'}\n"
     ]
    }
   ],
   "source": [
    "# Q26.Write a code that prompts the user to input two sets of characters. Then, print the union of these two sets\n",
    "m = set(input(\" \"))\n",
    "n = set(input(\" \"))\n",
    "print(m | n)"
   ]
  },
  {
   "cell_type": "code",
   "execution_count": null,
   "id": "82cea5f0-ccab-4d84-af69-0afb56f74b7f",
   "metadata": {},
   "outputs": [],
   "source": []
  }
 ],
 "metadata": {
  "kernelspec": {
   "display_name": "Python 3 (ipykernel)",
   "language": "python",
   "name": "python3"
  },
  "language_info": {
   "codemirror_mode": {
    "name": "ipython",
    "version": 3
   },
   "file_extension": ".py",
   "mimetype": "text/x-python",
   "name": "python",
   "nbconvert_exporter": "python",
   "pygments_lexer": "ipython3",
   "version": "3.10.8"
  }
 },
 "nbformat": 4,
 "nbformat_minor": 5
}
