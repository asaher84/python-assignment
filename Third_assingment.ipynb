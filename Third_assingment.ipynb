{
 "cells": [
  {
   "cell_type": "code",
   "execution_count": 1,
   "metadata": {},
   "outputs": [
    {
     "data": {
      "text/plain": [
       "'object oriented programing langauge includes class and methods and there operations like Inheritance , Abstraction , polymorphism and Encapsulation.\\nhere is the some key concepts of object-oriented programming :\\n1.Class \\n2.Object\\n3.Inheritance \\n4.Polymorphism\\n5.Encapsulation \\n'"
      ]
     },
     "execution_count": 1,
     "metadata": {},
     "output_type": "execute_result"
    }
   ],
   "source": [
    "# Q1. What are the five key concepts of Object-Oriented Programming (OOP)?\n",
    "'''object oriented programing langauge includes class and methods and there operations like Inheritance , Abstraction , polymorphism and Encapsulation.\n",
    "here is the some key concepts of object-oriented programming :\n",
    "1.Class \n",
    "2.Object\n",
    "3.Inheritance \n",
    "4.Polymorphism\n",
    "5.Encapsulation \n",
    "'''"
   ]
  },
  {
   "cell_type": "code",
   "execution_count": 7,
   "metadata": {},
   "outputs": [
    {
     "data": {
      "text/plain": [
       "(\"this is MG's Car\", 'this is top model', 'Mg launch this model in 2019')"
      ]
     },
     "execution_count": 7,
     "metadata": {},
     "output_type": "execute_result"
    }
   ],
   "source": [
    "'''Q2. Write a Python class for a `Car` with attributes for `make`, `model`, and `year`. Include a method to display the car's information'''\n",
    "\n",
    "class car:\n",
    "    def car_info(self , make , model , year):\n",
    "        make = \"this is MG's Car\"\n",
    "        model = \"this is top model\"\n",
    "        year = \"Mg launch this model in 2019\"\n",
    "        return make , model , year\n",
    "obj1 = car()\n",
    "obj1.car_info(\"mg\",'hector',2019)"
   ]
  },
  {
   "cell_type": "code",
   "execution_count": 22,
   "metadata": {},
   "outputs": [
    {
     "name": "stdout",
     "output_type": "stream",
     "text": [
      "5\n",
      "12\n"
     ]
    }
   ],
   "source": [
    "# Q3.Explain the difference between instance methods and class methods. Provide an example of each\n",
    "''' \n",
    "class method associated with class rather than instance.\n",
    "class method define as @classmethod decorator and take the class as first parameter.\n",
    "'''\n",
    "#classmethod\n",
    "class my_class:\n",
    "    class_variable = 0\n",
    "    def __init__(self,value):\n",
    "        self.instance_variable = value\n",
    "    @classmethod\n",
    "    def class_method(cls, x):\n",
    "        cls.class_variable += x\n",
    "        return cls.class_variable\n",
    "my_class.class_method(1)\n",
    "print(my_class.class_method(4))\n",
    "print(my_class.class_method(7))\n"
   ]
  },
  {
   "cell_type": "code",
   "execution_count": 28,
   "metadata": {},
   "outputs": [
    {
     "data": {
      "text/plain": [
       "'hi my name is aditya and my age is 20'"
      ]
     },
     "execution_count": 28,
     "metadata": {},
     "output_type": "execute_result"
    }
   ],
   "source": [
    "'''instance method are most common type of method that is associated with instances of class.\n",
    "instance method can operates on the instance's data.'''\n",
    "#instance class\n",
    "class person:\n",
    "    def __init__(self,name , age):\n",
    "        self.name = name\n",
    "        self.age = age\n",
    "    def instance_class(self):\n",
    "        return f\"hi my name is {self.name} and my age is {self.age}\"\n",
    "        \n",
    "obj = person('aditya',20)\n",
    "obj.instance_class()"
   ]
  },
  {
   "cell_type": "code",
   "execution_count": 67,
   "metadata": {},
   "outputs": [
    {
     "name": "stdout",
     "output_type": "stream",
     "text": [
      "welcome    \n",
      "welcome aditya  \n",
      "welcome aditya maharashtra\n"
     ]
    }
   ],
   "source": [
    "# Q4.How does Python implement method overloading? Give an example.\n",
    "'''in python method overloading happend when we define same method multiple times and used it to make multiple operations in same class.\n",
    "Last method overloads the previous ones in the same class'''\n",
    "\n",
    "#method overloading\n",
    "class m_overloading:\n",
    "    def student(self):\n",
    "        print(\"welcome\")\n",
    "    def student(self,name= \" \"):\n",
    "        print(\"welcome\", name)\n",
    "    def student(self,name= \" \",address = \" \"):\n",
    "        print(\"welcome\",name ,address)\n",
    "obj2= m_overloading()\n",
    "obj2.student()\n",
    "obj2.student('aditya')\n",
    "obj2.student('aditya','maharashtra')"
   ]
  },
  {
   "cell_type": "code",
   "execution_count": 47,
   "metadata": {},
   "outputs": [
    {
     "data": {
      "text/plain": [
       "\"\\n1.public = public is denoted by default\\n2.private = private is denoted using '__' symbol\\n3.protected = protected is denoted using '_'symbol\\n\""
      ]
     },
     "execution_count": 47,
     "metadata": {},
     "output_type": "execute_result"
    }
   ],
   "source": [
    "# Q5.. What are the three types of access modifiers in Python? How are they denoted?\n",
    "'''\n",
    "1.public = public is denoted by default\n",
    "2.private = private is denoted using '__' symbol\n",
    "3.protected = protected is denoted using '_'symbol\n",
    "'''"
   ]
  },
  {
   "cell_type": "code",
   "execution_count": 52,
   "metadata": {},
   "outputs": [
    {
     "name": "stdout",
     "output_type": "stream",
     "text": [
      "son is the useless person in the family\n",
      "father is a head of family\n",
      "Mother is the secodn officer of the family\n"
     ]
    }
   ],
   "source": [
    "# Q6. Describe the five types of inheritance in Python. Provide a simple example of multiple inheritance\n",
    "'''\n",
    "In inheritace refers to process of child receiving the properties of parent class.\n",
    "1.single inheritance = in single inheritance parent class have inherited by single child class.\n",
    "2.multiple inheritance = multiple parent classes and one child class ,child class can acess the all parent class properties\n",
    "3.multilevel inheritance = child class can access the parent class properties also access grand_parent class properties.\n",
    "4.hierarchical inheritance = in this type inheritance there is one parent class and have multiple child classe's.\n",
    "5.hybrid inheritance = hybrid inheritance are the multiple type of combinations of different inheritance.\n",
    "'''\n",
    "#multiple inheritance\n",
    "class father:\n",
    "    def head(self):\n",
    "        print(\"father is a head of family\")\n",
    "class mother:\n",
    "    def second_officer(self):\n",
    "        print(\"Mother is the secodn officer of the family\")\n",
    "class son(father,mother):\n",
    "    def useless(self):\n",
    "        print(\"son is the useless person in the family\")\n",
    "o2 = son()\n",
    "o2.useless()\n",
    "o2.head()\n",
    "o2.second_officer()"
   ]
  },
  {
   "cell_type": "code",
   "execution_count": 53,
   "metadata": {},
   "outputs": [
    {
     "data": {
      "text/plain": [
       "\"\\nPython's Method Resolution Order (MRO) is the order in which Python looks for a method in a hierarchy of classes.\\nIt uses the C3 linearization algorithm to determine the method resolution order of a class.\\nThis means that it first looks at the child's class before going to its parents\\n\""
      ]
     },
     "execution_count": 53,
     "metadata": {},
     "output_type": "execute_result"
    }
   ],
   "source": [
    "# Q7. What is the Method Resolution Order (MRO) in Python? How can you retrieve it programmatically?\n",
    "'''\n",
    "Python's Method Resolution Order (MRO) is the order in which Python looks for a method in a hierarchy of classes.\n",
    "It uses the C3 linearization algorithm to determine the method resolution order of a class.\n",
    "This means that it first looks at the child's class before going to its parents\n",
    "'''"
   ]
  },
  {
   "cell_type": "code",
   "execution_count": 61,
   "metadata": {},
   "outputs": [
    {
     "data": {
      "text/plain": [
       "'the area of circle is 2*3.14*radius'"
      ]
     },
     "execution_count": 61,
     "metadata": {},
     "output_type": "execute_result"
    }
   ],
   "source": [
    "# Q8. Create an abstract base class `Shape` with an abstract method `area()`. Then create two subclasses `Circle` and `Rectangle` that implement the `area()` method.\n",
    "import abc\n",
    "class shape:\n",
    "    @abc.abstractmethod\n",
    "    def area(self):\n",
    "        pass\n",
    "class circle(shape):\n",
    "    def area(self):\n",
    "        return \"the area of circle is 2*3.14*radius\"\n",
    "class rectangle(shape):\n",
    "    def area(self):\n",
    "        return \"the area of rectangle is length * width\"\n",
    "\n",
    "obj1 = shape()\n",
    "obj1.area()\n",
    "obj1 = rectangle()\n",
    "obj1.area()\n",
    "obj1 = circle()\n",
    "obj1.area()\n"
   ]
  },
  {
   "cell_type": "code",
   "execution_count": 94,
   "metadata": {},
   "outputs": [
    {
     "data": {
      "text/plain": [
       "25.12"
      ]
     },
     "execution_count": 94,
     "metadata": {},
     "output_type": "execute_result"
    }
   ],
   "source": [
    "# Q9. Demonstrate polymorphism by creating a function that can work with different shape objects to calculate and print their areas.\n",
    "\n",
    "class circle:\n",
    "    def area(self,radius):\n",
    "        area_circle = 2 * 3.14 * radius\n",
    "        return area_circle\n",
    "class rectangle(circle):\n",
    "    def area(self,length , width ):\n",
    "        area_rectangle = length * width\n",
    "        return area_rectangle\n",
    "# class triangle(shape):\n",
    "#     # base = 10\n",
    "#     # hight = 16\n",
    "#     def area(self,base , hight):\n",
    "#         area_triangle = 1/2 * base * hight\n",
    "#         return area_triangle\n",
    "\n",
    "# obj1 = triangle()\n",
    "obj1 = rectangle()\n",
    "obj1.area(10,5)\n",
    "obj2 = circle()\n",
    "obj2.area(4)"
   ]
  },
  {
   "cell_type": "code",
   "execution_count": 103,
   "metadata": {},
   "outputs": [
    {
     "name": "stdout",
     "output_type": "stream",
     "text": [
      "insufficient balance\n"
     ]
    }
   ],
   "source": [
    "# Q10.. Implement encapsulation in a `BankAccount` class with private attributes for `balance` and `account_number`. Include methods for deposit, withdrawal, and balance inquiry.\n",
    "\n",
    "class BankAccount:\n",
    "    def __init__(self,balance ,account_number):\n",
    "        self.__balance = balance\n",
    "        self.__account_number = account_number\n",
    "    def deposit(self, d):\n",
    "        self.__balance += d\n",
    "        return self.__balance\n",
    "    def withdrawal(self,w):\n",
    "        if self.__balance< w:\n",
    "            print(\"insufficient balance\")\n",
    "        else:\n",
    "            self.__balance = self.__balance - w\n",
    "    def balance_inquiry(self):\n",
    "        return self.__balance\n",
    "\n",
    "ob = BankAccount(100,2)\n",
    "ob.balance_inquiry()\n",
    "ob.deposit(50)\n",
    "ob.withdrawal(60)\n",
    "ob.balance_inquiry()\n",
    "ob.withdrawal(100)"
   ]
  },
  {
   "cell_type": "code",
   "execution_count": 117,
   "metadata": {},
   "outputs": [
    {
     "name": "stdout",
     "output_type": "stream",
     "text": [
      "MyClass with value: 30\n",
      "MyClass with value: 1\n"
     ]
    }
   ],
   "source": [
    "# Q11.Write a class that overrides the `__str__` and `__add__` magic methods. What will these methods allow you to do?\n",
    "'''\n",
    "__add__ methodin Python defines how the objects of a class will be added together.\n",
    "'''\n",
    "class MyClass:\n",
    "    def __init__(self, value):\n",
    "        self.value = value\n",
    "\n",
    "    def __str__(self):\n",
    "        return f\"MyClass with value: {self.value}\"\n",
    "\n",
    "    def __add__(self, other):\n",
    "        if isinstance(other, MyClass):\n",
    "            return MyClass(self.value + other.value)\n",
    "        return NotImplemented\n",
    "obj1 = MyClass(10)\n",
    "obj2 = MyClass(20)\n",
    "print(obj1 + obj2)"
   ]
  },
  {
   "cell_type": "code",
   "execution_count": 118,
   "metadata": {},
   "outputs": [
    {
     "name": "stdout",
     "output_type": "stream",
     "text": [
      "Function 'long_time' executed in 0.0201s\n"
     ]
    }
   ],
   "source": [
    "# Q12. Create a decorator that measures and prints the execution time of a function.\n",
    "from time import time \n",
    "\n",
    "def timer_func(func): \n",
    "\t# This function shows the execution time of \n",
    "\t# the function object passed \n",
    "\tdef wrap_func(*args, **kwargs): \n",
    "\t\tt1 = time() \n",
    "\t\tresult = func(*args, **kwargs) \n",
    "\t\tt2 = time() \n",
    "\t\tprint(f'Function {func.__name__!r} executed in {(t2-t1):.4f}s') \n",
    "\t\treturn result \n",
    "\treturn wrap_func \n",
    "\n",
    "@timer_func\n",
    "def long_time(n): \n",
    "\tfor i in range(n): \n",
    "\t\tfor j in range(100000): \n",
    "\t\t\ti*j \n",
    "\n",
    "\n",
    "long_time(5) \n"
   ]
  },
  {
   "cell_type": "code",
   "execution_count": 119,
   "metadata": {},
   "outputs": [
    {
     "name": "stdout",
     "output_type": "stream",
     "text": [
      "this is b\n"
     ]
    }
   ],
   "source": [
    "# Q13. Explain the concept of the Diamond Problem in multiple inheritance. How does Python resolve it?\n",
    "'''\n",
    "This problem occurs when there's a diamond-shaped inheritance hierarchy\n",
    "for example -Class A is inherited by both Class B and Class C, and then Class D inherits from both Class B and Class C.\n",
    "Python uses a method resolution order (MRO) to determine the order in which methods are inherited\n",
    "'''\n",
    "#example \n",
    "class a:\n",
    "    def state(self):\n",
    "        print(\"this is a\")\n",
    "class b(a):\n",
    "    def state(self):\n",
    "        print(\"this is b\")\n",
    "class c(a):\n",
    "    def state(self):\n",
    "        print(\"this is c\")\n",
    "class d(b,c):\n",
    "    pass\n",
    "obj = d()\n",
    "obj.state()"
   ]
  },
  {
   "cell_type": "code",
   "execution_count": 120,
   "metadata": {},
   "outputs": [
    {
     "name": "stdout",
     "output_type": "stream",
     "text": [
      "Number of instances created: 3\n"
     ]
    }
   ],
   "source": [
    "# Q14.Write a class method that keeps track of the number of instances created from a class.\n",
    "class MyClass:\n",
    "    # Class variable to keep track of the instance count\n",
    "    instance_count = 0\n",
    "\n",
    "    def __init__(self):\n",
    "        # Increment the class variable each time an instance is created\n",
    "        MyClass.instance_count += 1\n",
    "\n",
    "    @classmethod\n",
    "    def get_instance_count(cls):\n",
    "        # Return the current instance count\n",
    "        return cls.instance_count\n",
    "\n",
    "# Example usage\n",
    "obj1 = MyClass()\n",
    "obj2 = MyClass()\n",
    "obj3 = MyClass()\n",
    "\n",
    "print(\"Number of instances created:\", MyClass.get_instance_count()) "
   ]
  },
  {
   "cell_type": "code",
   "execution_count": 121,
   "metadata": {},
   "outputs": [
    {
     "name": "stdout",
     "output_type": "stream",
     "text": [
      "True\n",
      "False\n",
      "True\n",
      "False\n"
     ]
    }
   ],
   "source": [
    "# Q15. Implement a static method in a class that checks if a given year is a leap year\n",
    "class YearChecker:\n",
    "    @staticmethod\n",
    "    def is_leap_year(year):\n",
    "        # A year is a leap year if it is divisible by 4\n",
    "        # but not divisible by 100 unless it's divisible by 400\n",
    "        if (year % 4 == 0 and year % 100 != 0) or (year % 400 == 0):\n",
    "            return True\n",
    "        return False\n",
    "\n",
    "# Example usage\n",
    "print(YearChecker.is_leap_year(2020))  \n",
    "print(YearChecker.is_leap_year(1900))  \n",
    "print(YearChecker.is_leap_year(2000))  \n",
    "print(YearChecker.is_leap_year(2023))  \n"
   ]
  },
  {
   "cell_type": "code",
   "execution_count": null,
   "metadata": {},
   "outputs": [],
   "source": []
  }
 ],
 "metadata": {
  "kernelspec": {
   "display_name": ".venv",
   "language": "python",
   "name": "python3"
  },
  "language_info": {
   "codemirror_mode": {
    "name": "ipython",
    "version": 3
   },
   "file_extension": ".py",
   "mimetype": "text/x-python",
   "name": "python",
   "nbconvert_exporter": "python",
   "pygments_lexer": "ipython3",
   "version": "3.12.1"
  }
 },
 "nbformat": 4,
 "nbformat_minor": 2
}
